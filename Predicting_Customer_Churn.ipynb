{
  "nbformat": 4,
  "nbformat_minor": 0,
  "metadata": {
    "colab": {
      "provenance": [],
      "authorship_tag": "ABX9TyONvaFhJYrp41rFyg8ia0/D",
      "include_colab_link": true
    },
    "kernelspec": {
      "name": "python3",
      "display_name": "Python 3"
    },
    "language_info": {
      "name": "python"
    }
  },
  "cells": [
    {
      "cell_type": "markdown",
      "metadata": {
        "id": "view-in-github",
        "colab_type": "text"
      },
      "source": [
        "<a href=\"https://colab.research.google.com/github/Aditya-21052131/Predicting-Customer-Churn/blob/main/Predicting_Customer_Churn.ipynb\" target=\"_parent\"><img src=\"https://colab.research.google.com/assets/colab-badge.svg\" alt=\"Open In Colab\"/></a>"
      ]
    },
    {
      "cell_type": "code",
      "execution_count": 4,
      "metadata": {
        "id": "GsHNwzTUDulZ"
      },
      "outputs": [],
      "source": [
        "import pandas as pd\n",
        "from sklearn.preprocessing import LabelEncoder"
      ]
    },
    {
      "cell_type": "code",
      "source": [
        "data = {\n",
        "    'age': [25, 30, 35, 20, 40, 45, 50, 28, 32, 38, 42, 48],\n",
        "    'purchase_amount': [1500, 2000, 2500, 1000, 3000, 3500, 4000, 1800, 2200, 2800, 3200, 3600],\n",
        "    'gender': ['Male', 'Female', 'Male', 'Female', 'Male', 'Female', 'Male', 'Female', 'Male', 'Female', 'Male', 'Female'],\n",
        "    'location': ['City', 'Town', 'City', 'Village', 'Town', 'City', 'Village', 'Town', 'City', 'Village', 'Town', 'City'],\n",
        "    'churn': [0, 0, 1, 0, 1, 1, 1, 0, 0, 1, 1, 1]\n",
        "}\n",
        "\n",
        "customer_churn_data = pd.DataFrame(data)"
      ],
      "metadata": {
        "id": "UtXkelcxFz2a"
      },
      "execution_count": 5,
      "outputs": []
    },
    {
      "cell_type": "code",
      "source": [
        "le = LabelEncoder()\n",
        "customer_churn_data['gender'] = le.fit_transform(customer_churn_data['gender'])\n",
        "customer_churn_data['location'] = le.fit_transform(customer_churn_data['location'])"
      ],
      "metadata": {
        "id": "cpKPGFLvF1TI"
      },
      "execution_count": 6,
      "outputs": []
    },
    {
      "cell_type": "code",
      "source": [
        "X = customer_churn_data.drop('churn', axis=1)\n",
        "y = customer_churn_data['churn']\n",
        "X_train, X_test, y_train, y_test = train_test_split(X, y, test_size=0.2, random_state=42)"
      ],
      "metadata": {
        "id": "LZErM2gLF3eF"
      },
      "execution_count": 7,
      "outputs": []
    },
    {
      "cell_type": "code",
      "source": [
        "from sklearn.metrics import mean_squared_error, mean_absolute_error\n",
        "\n",
        "# ...\n",
        "\n",
        "lr_model.fit(X_train, y_train)\n",
        "y_pred_lr = lr_model.predict(X_test)\n",
        "\n",
        "mse = mean_squared_error(y_test, y_pred_lr)\n",
        "mae = mean_absolute_error(y_test, y_pred_lr)\n",
        "\n",
        "print(\"Linear Regression MSE:\", mse)\n",
        "print(\"Linear Regression MAE:\", mae)"
      ],
      "metadata": {
        "colab": {
          "base_uri": "https://localhost:8080/"
        },
        "id": "jIpdLGzyF66X",
        "outputId": "0a22adc7-8172-4acb-e5f6-c42435750292"
      },
      "execution_count": 9,
      "outputs": [
        {
          "output_type": "stream",
          "name": "stdout",
          "text": [
            "Linear Regression MSE: 0.09272467301349292\n",
            "Linear Regression MAE: 0.26510731268474497\n"
          ]
        }
      ]
    }
  ]
}